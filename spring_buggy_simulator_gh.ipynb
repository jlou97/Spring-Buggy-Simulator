{
 "cells": [
  {
   "cell_type": "markdown",
   "metadata": {
    "id": "y7o9MA8rD5ic"
   },
   "source": [
    "# \ud83d\udee0 Spring Buggy Simulator",
    "\n",
    "**Features:**\n",
    "- Start distance + platform midpoint goal\n",
    "- Sliders for all physics variables (with labels shown fully)\n",
    "- Simulate multiple trials with variance\n",
    "- Verdict + energy comparison per trial\n",
    "- Histogram of energy distribution"
   ]
  },
  {
   "cell_type": "code",
   "source": [],
   "metadata": {
    "id": "jn0dfKlyA502",
    "executionInfo": {
     "status": "ok",
     "timestamp": 1747398538244,
     "user_tz": -600,
     "elapsed": 13,
     "user": {
      "displayName": "J LG",
      "userId": "06306943248877492622"
     }
    }
   },
   "execution_count": 2,
   "outputs": []
  },
  {
   "cell_type": "code",
   "source": [],
   "metadata": {
    "id": "lUfzwljzA6El",
    "executionInfo": {
     "status": "ok",
     "timestamp": 1747398538249,
     "user_tz": -600,
     "elapsed": 11,
     "user": {
      "displayName": "J LG",
      "userId": "06306943248877492622"
     }
    }
   },
   "execution_count": 2,
   "outputs": []
  },
  {
   "cell_type": "code",
   "execution_count": 3,
   "metadata": {
    "id": "orO-3VvvD5ie",
    "executionInfo": {
     "status": "ok",
     "timestamp": 1747398538279,
     "user_tz": -600,
     "elapsed": 28,
     "user": {
      "displayName": "J LG",
      "userId": "06306943248877492622"
     }
    }
   },
   "outputs": [],
   "source": [
    "import ipywidgets as widgets\n",
    "from IPython.display import display, Markdown, clear_output\n",
    "import math\n",
    "import matplotlib.pyplot as plt\n",
    "import numpy as np\n",
    "\n",
    "g = 9.81\n",
    "ramp_length = 0.5\n",
    "ramp_height = 0.2\n",
    "ramp_theta = math.asin(ramp_height / ramp_length)\n",
    "\n",
    "output_display = widgets.Output()\n",
    "plot_display = widgets.Output()\n",
    "\n",
    "def compute_required_energy(X, m, mu):\n",
    "    E_flat = mu * m * g * X\n",
    "    E_ramp_friction = mu * m * g * math.cos(ramp_theta) * ramp_length\n",
    "    E_lift = m * g * ramp_height\n",
    "    E_platform = mu * m * g * 0.25\n",
    "    return E_flat + E_ramp_friction + E_lift + E_platform\n",
    "\n",
    "def compute_available_energy(U, eff):\n",
    "    return U * eff\n",
    "\n",
    "def update_display(*args):\n",
    "    m = mass_slider.value\n",
    "    mu = friction_slider.value\n",
    "    U = spring_energy_slider.value\n",
    "    eff = efficiency_slider.value\n",
    "    X = start_dist_slider.value\n",
    "    I = inertia_slider.value\n",
    "    r = radius_slider.value\n",
    "    trials = trial_slider.value\n",
    "\n",
    "    E_req = compute_required_energy(X, m, mu)\n",
    "    base_energy = compute_available_energy(U, eff)\n",
    "    E_rot = 0.5 * I * (1 / r)**2\n",
    "    total_required = E_req + E_rot\n",
    "\n",
    "    verdicts = []\n",
    "    energies = []\n",
    "    for _ in range(trials):\n",
    "        noise = np.random.normal(0, 0.05 * base_energy)\n",
    "        E_avail = base_energy + noise\n",
    "        energies.append(E_avail)\n",
    "        diff = E_avail - total_required\n",
    "        if abs(diff) < 0.2:\n",
    "            verdicts.append('\u2705 Hit')\n",
    "        elif diff < 0:\n",
    "            verdicts.append('\u26a0\ufe0f Undershoot')\n",
    "        else:\n",
    "            verdicts.append('\u274c Overshoot')\n",
    "\n",
    "    with output_display:\n",
    "        clear_output()\n",
    "        display(Markdown(f\"### Required Total Energy: `{total_required:.2f}` J\"))\n",
    "        for i, (v, e) in enumerate(zip(verdicts, energies)):\n",
    "            display(Markdown(f\"Trial {i+1}: {v} \u2013 Energy: `{e:.2f}` J\"))\n",
    "\n",
    "    with plot_display:\n",
    "        clear_output()\n",
    "        plt.figure(figsize=(7, 2.5))\n",
    "        plt.axvline(total_required, color='red', linestyle='--', label='Required')\n",
    "        plt.hist(energies, bins=10, color='orange', edgecolor='black', alpha=0.7)\n",
    "        plt.title('Distribution of Available Energy')\n",
    "        plt.xlabel('Energy (J)')\n",
    "        plt.ylabel('Trials')\n",
    "        plt.legend()\n",
    "        plt.tight_layout()\n",
    "        plt.show()"
   ]
  },
  {
   "cell_type": "code",
   "execution_count": 4,
   "metadata": {
    "id": "gf1XmprXD5ig",
    "executionInfo": {
     "status": "ok",
     "timestamp": 1747398538918,
     "user_tz": -600,
     "elapsed": 631,
     "user": {
      "displayName": "J LG",
      "userId": "06306943248877492622"
     }
    },
    "outputId": "e2f94ddf-e616-437c-a013-e472a5cb182f",
    "colab": {
     "base_uri": "https://localhost:8080/",
     "height": 928,
     "referenced_widgets": [
      "56dbf806e5024e9ab74f0cb134ab327f",
      "c377fe58f7304ffdae4a198cfaf3a606",
      "94325c005164423280bf7dac621757f4",
      "18bff151deb54f21bb9e0b070b7c827a",
      "b9e2cdca17b94b4f8fc3b86feb423683",
      "d72a712694cc438f85e51757e1064ac1",
      "628c5294fb034d0d81279ee2eef8651d",
      "e6873875718f42a7a65ef7550699afa6",
      "401df69c6fc446ba8a0d8a021091387e",
      "859154e2a7f34fa8afe6571ab4475dfb",
      "3744cd0eefbd411aa816fa1760927427",
      "da8682790de04bc594572ec614250ff4",
      "cdbf845e3dce4ce2bcde9508b4a6a494",
      "bbd01fe97f7449d48d93b5d66627c2f8",
      "4bafce19cff8491eb74b04198a3d79d5",
      "f79c71f850254ed9a5314bfc6acee41c",
      "a6448158dd5d4f2fb16f4e1708b8c0a9",
      "28df49a1999641a3952da4b51b3f0a33",
      "216566e0672f414cbabc32dd2fc68ed0",
      "8e88881d51ba4801b5c085a122e0f7b1",
      "adde053e259446d89fe5399efac10dd3",
      "ae8d0120e2324558aafd81ef3fab4953",
      "64ebbf9da31940ae989b1268bb3c7109",
      "ae6dafd550294006b49c87e2fd82885a",
      "19f113f353124d04b79958a810bf0e20",
      "8e04f28ad6d645829769af2be7e29e2c",
      "c439c5e6373a48a8b50cfd6828b71bc0",
      "58ac99ebb35e4b1e9c5362a18b16460c",
      "8440067303614922a0fd03d7e8d02c7f",
      "5274bd9ac9784cd3ae2e205d69a32ad5",
      "2ef9b986d7a743c4bee49f32d93b7313",
      "91bae40b94c648c7b8e955f8f615b4d9",
      "085d0fbfd8d34595a60e1b0d4bdc897c",
      "c4a3e6db4abc4ef28dd05a76c8e51189",
      "9290a4ef506c4471868a7be762083073",
      "096f192154a9447d9a6ad5d394ec3251",
      "e7d0118019ed4f668d72f119d270e004",
      "e4235d01636e4fa4b89db55d4209fa77",
      "c48fbea0047945dc83d9cf3df711172c",
      "dc4855876f414fb5a3893b24f4ed7276",
      "d3602cbf13df4302bc34ede6e1e3280b",
      "a85d4bdf3ea940f6a7b94c5e721bae90",
      "bb2b2418a8df40b7836e5ffae5ec0201",
      "7f1a0b7c86b645c4a232efdb217c17e4",
      "a478428dde7c4e40b3e54f89150981fa",
      "3b8ca1f504084ca7b9d46512e3daf018",
      "406e1e676d5649c5895081ce9af5a90f"
     ]
    }
   },
   "outputs": [
    {
     "output_type": "display_data",
     "data": {
      "text/plain": [
       "VBox(children=(Output(), Label(value='Start Distance AB (m)'), FloatSlider(value=3.0, layout=Layout(width='700\u2026"
      ],
      "application/vnd.jupyter.widget-view+json": {
       "version_major": 2,
       "version_minor": 0,
       "model_id": "56dbf806e5024e9ab74f0cb134ab327f"
      }
     },
     "metadata": {}
    }
   ],
   "source": [
    "# Define sliders\n",
    "layout = widgets.Layout(width='700px')\n",
    "style = {'handle_color': 'black'}\n",
    "\n",
    "start_dist_slider = widgets.FloatSlider(min=2.0, max=4.0, value=3.0, step=0.1, layout=layout, style=style)\n",
    "spring_energy_slider = widgets.FloatSlider(min=0.5, max=15.0, value=5.49, step=0.01, layout=layout, style=style)\n",
    "mass_slider = widgets.FloatSlider(min=0.1, max=5.0, value=1.0, step=0.1, layout=layout, style=style)\n",
    "friction_slider = widgets.FloatSlider(min=0.01, max=0.2, value=0.1, step=0.01, layout=layout, style=style)\n",
    "efficiency_slider = widgets.FloatSlider(min=0.1, max=1.0, value=0.5, step=0.01, layout=layout, style=style)\n",
    "inertia_slider = widgets.FloatSlider(min=0.0, max=0.05, value=0.01, step=0.001, layout=layout, style=style)\n",
    "radius_slider = widgets.FloatSlider(min=0.01, max=0.1, value=0.03, step=0.005, layout=layout, style=style)\n",
    "trial_slider = widgets.IntSlider(min=1, max=50, value=5, step=1, layout=layout, style=style)\n",
    "\n",
    "# Observe changes\n",
    "for s in [start_dist_slider, spring_energy_slider, mass_slider, friction_slider,\n",
    "          efficiency_slider, inertia_slider, radius_slider, trial_slider]:\n",
    "    s.observe(update_display, names='value')\n",
    "\n",
    "# Display\n",
    "update_display()\n",
    "display(widgets.VBox([\n",
    "    output_display,\n",
    "    widgets.Label('Start Distance AB (m)'), start_dist_slider,\n",
    "    widgets.Label('Spring Potential Energy (J)'), spring_energy_slider,\n",
    "    widgets.Label('Buggy Mass (kg)'), mass_slider,\n",
    "    widgets.Label('Friction Coefficient \u03bc'), friction_slider,\n",
    "    widgets.Label('Efficiency (%)'), efficiency_slider,\n",
    "    widgets.Label('Rotational Inertia (kg\u00b7m\u00b2)'), inertia_slider,\n",
    "    widgets.Label('Wheel Radius (m)'), radius_slider,\n",
    "    widgets.Label('Number of Trials'), trial_slider,\n",
    "    plot_display\n",
    "]))"
   ]
  }
 ],
 "metadata": {
  "kernelspec": {
   "display_name": "Python 3 (ipykernel)",
   "language": "python",
   "name": "python3"
  },
  "language_info": {
   "codemirror_mode": {
    "name": "ipython",
    "version": 3
   },
   "file_extension": ".py",
   "mimetype": "text/x-python",
   "name": "python",
   "nbconvert_exporter": "python",
   "pygments_lexer": "ipython3",
   "version": "3.8.10"
  },
  "colab": {
   "provenance": []
  }
 },
 "nbformat": 4,
 "nbformat_minor": 0
}
